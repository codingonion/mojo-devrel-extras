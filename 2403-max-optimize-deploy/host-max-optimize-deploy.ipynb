{
 "cells": [
  {
   "cell_type": "markdown",
   "metadata": {},
   "source": [
    "## Optimize and deploy models with MAX Engine and MAX Serving"
   ]
  },
  {
   "cell_type": "code",
   "execution_count": null,
   "metadata": {},
   "outputs": [],
   "source": [
    "import shutil\n",
    "import os\n",
    "os.environ['TF_CPP_MIN_LOG_LEVEL'] = '3'\n",
    "\n",
    "import tensorflow as tf\n",
    "import numpy as np\n",
    "from tensorflow.keras.applications import ResNet50, EfficientNetB0"
   ]
  },
  {
   "cell_type": "code",
   "execution_count": null,
   "metadata": {},
   "outputs": [],
   "source": [
    "def load_save_model(keras_model, saved_model_dir = 'saved_model'):\n",
    "   model = keras_model(weights='imagenet')\n",
    "   shutil.rmtree(saved_model_dir, ignore_errors=True)\n",
    "   model.save(saved_model_dir+\"/1/saved_model/\", \n",
    "               include_optimizer=False, \n",
    "               save_format='tf')"
   ]
  },
  {
   "cell_type": "markdown",
   "metadata": {},
   "source": [
    "### Download Resnet50 and EfficientNet models and deploy it with MAX Serving"
   ]
  },
  {
   "cell_type": "code",
   "execution_count": 5,
   "metadata": {},
   "outputs": [],
   "source": [
    "load_save_model(ResNet50, 'model-repository/resnet50')\n",
    "load_save_model(EfficientNetB0, 'model-repository/efficientnet')"
   ]
  },
  {
   "cell_type": "code",
   "execution_count": null,
   "metadata": {
    "vscode": {
     "languageId": "shellscript"
    }
   },
   "outputs": [],
   "source": [
    "%%sh\n",
    "# Create Triton config for ResNet\n",
    "cat > model-repository/resnet50/config.pbtxt <<EOL\n",
    "instance_group {\n",
    " kind: KIND_CPU\n",
    "}\n",
    "default_model_filename: \"saved_model\"\n",
    "backend: \"max\"\n",
    "EOL\n",
    "\n",
    "# Create Triton config for EfficientNet\n",
    "cat > model-repository/efficientnet/config.pbtxt <<EOL\n",
    "instance_group {\n",
    " kind: KIND_CPU\n",
    "}\n",
    "default_model_filename: \"saved_model\"\n",
    "backend: \"max\"\n",
    "EOL\n",
    "\n",
    "tree model-repository"
   ]
  },
  {
   "cell_type": "markdown",
   "metadata": {},
   "source": [
    "### Run MAX Serving Container"
   ]
  },
  {
   "cell_type": "code",
   "execution_count": null,
   "metadata": {
    "vscode": {
     "languageId": "shellscript"
    }
   },
   "outputs": [],
   "source": [
    "%%sh\n",
    "docker run --rm --network=host --name max-serving \\\n",
    "    -v $PWD/model-repository/:/models \\\n",
    "    public.ecr.aws/modular/max-serving-de tritonserver --model-repository=/models \\\n",
    "        --model-control-mode=explicit \\\n",
    "        --load-model=* "
   ]
  },
  {
   "cell_type": "code",
   "execution_count": null,
   "metadata": {
    "vscode": {
     "languageId": "shellscript"
    }
   },
   "outputs": [],
   "source": [
    "import tritonclient.http as httpclient\n",
    "from urllib.request import urlretrieve\n",
    "from PIL import Image\n",
    "import matplotlib.pyplot as plt\n",
    "\n",
    "### Triton client ###\n",
    "client = httpclient.InferenceServerClient(url=\"localhost:8000\")\n",
    "\n",
    "### Display image ###\n",
    "urlretrieve('https://s3.amazonaws.com/model-server/inputs/kitten.jpg', \"kitten.jpg\") \n",
    "def display_image(file_name=\"kitten.jpg\"):\n",
    "    img = Image.open(file_name) \n",
    "    plt.imshow(img)\n",
    "    plt.axis('off');\n",
    "display_image()"
   ]
  },
  {
   "cell_type": "code",
   "execution_count": null,
   "metadata": {
    "vscode": {
     "languageId": "shellscript"
    }
   },
   "outputs": [],
   "source": [
    "### Image pre-processing ###\n",
    "def image_preprocess(preprocess_fn,img,reps=1):\n",
    "   img = np.asarray(img.resize((224, 224)),dtype=np.float32)\n",
    "   img = np.stack([img]*reps)\n",
    "   img = preprocess_fn(img)\n",
    "   return img\n",
    "\n",
    "### Image to classify ###\n",
    "img= Image.open('kitten.jpg')\n",
    "\n",
    "### Choose your model ###\n",
    "# model_name = \"resnet50\"\n",
    "model_name = \"efficientnet\"\n",
    "\n",
    "if model_name==\"resnet50\":\n",
    "    preprocess_fn = tf.keras.applications.resnet.preprocess_input\n",
    "    decode_fn = tf.keras.applications.resnet.decode_predictions\n",
    "    input_name = \"input_1\" # from input metadata\n",
    "else:\n",
    "    preprocess_fn = tf.keras.applications.efficientnet.preprocess_input\n",
    "    decode_fn = tf.keras.applications.efficientnet.decode_predictions\n",
    "    input_name = \"input_2\" # from input metadata\n",
    "\n",
    "### Preprocess image ###\n",
    "img = image_preprocess(preprocess_fn,img)\n",
    "\n",
    "### Inference request format ###\n",
    "inputs = httpclient.InferInput(input_name,\n",
    "                              img.shape,\n",
    "                              datatype=\"FP32\")\n",
    "inputs.set_data_from_numpy(img, binary_data=True)\n",
    "outputs = httpclient.InferRequestedOutput(\"predictions\",\n",
    "                                          binary_data=True,\n",
    "                                          class_count=1000)\n",
    "\n",
    "### Submit inference request ###\n",
    "results = client.infer(model_name=model_name,\n",
    "                      inputs=[inputs],\n",
    "                      outputs=[outputs])\n",
    "inference_output = results.as_numpy('predictions')\n",
    "\n",
    "### Process request ###\n",
    "idx = [int(out.decode().split(':')[1]) for out in inference_output]\n",
    "probs = [float(out.decode().split(':')[0]) for out in inference_output]\n",
    "\n",
    "### Decoding predictions ###\n",
    "probs = np.array(probs)[np.argsort(idx)]\n",
    "display_image()\n",
    "labels = decode_fn(np.expand_dims(probs, axis=0), top=5)\n",
    "print(model_name,\":\")\n",
    "[l for l in labels[0]]"
   ]
  }
 ],
 "metadata": {
  "kernelspec": {
   "display_name": "base",
   "language": "python",
   "name": "python3"
  },
  "language_info": {
   "codemirror_mode": {
    "name": "ipython",
    "version": 3
   },
   "file_extension": ".py",
   "mimetype": "text/x-python",
   "name": "python",
   "nbconvert_exporter": "python",
   "pygments_lexer": "ipython3",
   "version": "3.10.10"
  }
 },
 "nbformat": 4,
 "nbformat_minor": 2
}
