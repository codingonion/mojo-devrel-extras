{
 "cells": [
  {
   "cell_type": "markdown",
   "metadata": {},
   "source": [
    "## Semantic search with MAX Engine\n",
    "\n",
    "Accompaning code for the Modular blog post TODO: link after publish\n",
    "\n",
    "To get the data [Amazon Multilingual Counterfactual Dataset (AMCD)](https://github.com/amazon-science/amazon-multilingual-counterfactual-dataset) \n",
    "\n",
    "```sh\n",
    "git clone https://github.com/amazon-science/amazon-multilingual-counterfactual-dataset\n",
    "```"
   ]
  },
  {
   "cell_type": "markdown",
   "metadata": {},
   "source": [
    "## Examine the dataset and tokenize the sentences"
   ]
  },
  {
   "cell_type": "code",
   "execution_count": 1,
   "metadata": {},
   "outputs": [
    {
     "name": "stdout",
     "output_type": "stream",
     "text": [
      "data size: (4018, 2)\n"
     ]
    },
    {
     "data": {
      "text/html": [
       "<div>\n",
       "<style scoped>\n",
       "    .dataframe tbody tr th:only-of-type {\n",
       "        vertical-align: middle;\n",
       "    }\n",
       "\n",
       "    .dataframe tbody tr th {\n",
       "        vertical-align: top;\n",
       "    }\n",
       "\n",
       "    .dataframe thead th {\n",
       "        text-align: right;\n",
       "    }\n",
       "</style>\n",
       "<table border=\"1\" class=\"dataframe\">\n",
       "  <thead>\n",
       "    <tr style=\"text-align: right;\">\n",
       "      <th></th>\n",
       "      <th>sentence</th>\n",
       "      <th>is_counterfactual</th>\n",
       "    </tr>\n",
       "  </thead>\n",
       "  <tbody>\n",
       "    <tr>\n",
       "      <th>0</th>\n",
       "      <td>In person it looks as though it would have cos...</td>\n",
       "      <td>1</td>\n",
       "    </tr>\n",
       "    <tr>\n",
       "      <th>1</th>\n",
       "      <td>Product received as described in the shipping ...</td>\n",
       "      <td>0</td>\n",
       "    </tr>\n",
       "    <tr>\n",
       "      <th>2</th>\n",
       "      <td>The handkerchiefs were just what I wanted - so...</td>\n",
       "      <td>0</td>\n",
       "    </tr>\n",
       "    <tr>\n",
       "      <th>3</th>\n",
       "      <td>I adore Nessa and give her  credit because the...</td>\n",
       "      <td>0</td>\n",
       "    </tr>\n",
       "    <tr>\n",
       "      <th>4</th>\n",
       "      <td>He was very pleased when he saw how neat the c...</td>\n",
       "      <td>0</td>\n",
       "    </tr>\n",
       "  </tbody>\n",
       "</table>\n",
       "</div>"
      ],
      "text/plain": [
       "                                            sentence  is_counterfactual\n",
       "0  In person it looks as though it would have cos...                  1\n",
       "1  Product received as described in the shipping ...                  0\n",
       "2  The handkerchiefs were just what I wanted - so...                  0\n",
       "3  I adore Nessa and give her  credit because the...                  0\n",
       "4  He was very pleased when he saw how neat the c...                  0"
      ]
     },
     "execution_count": 1,
     "metadata": {},
     "output_type": "execute_result"
    }
   ],
   "source": [
    "import pandas as pd\n",
    "\n",
    "data = pd.read_csv(\"amazon-multilingual-counterfactual-dataset/data/EN_train.tsv\", sep=\"\\t\")\n",
    "print(f\"data size: {data.shape}\")\n",
    "data.head()"
   ]
  },
  {
   "cell_type": "code",
   "execution_count": 2,
   "metadata": {},
   "outputs": [
    {
     "name": "stderr",
     "output_type": "stream",
     "text": [
      "/home/ubuntu/workspace/max/venv/lib/python3.10/site-packages/tqdm/auto.py:21: TqdmWarning: IProgress not found. Please update jupyter and ipywidgets. See https://ipywidgets.readthedocs.io/en/stable/user_install.html\n",
      "  from .autonotebook import tqdm as notebook_tqdm\n"
     ]
    }
   ],
   "source": [
    "from transformers import AutoTokenizer\n",
    "\n",
    "tokenizer = AutoTokenizer.from_pretrained(\"BAAI/bge-base-en-v1.5\")\n",
    "inputs = tokenizer(list(data['sentence']), return_tensors=\"pt\", max_length=512, padding=True, truncation=True)"
   ]
  },
  {
   "cell_type": "markdown",
   "metadata": {},
   "source": [
    "### Download the ONNX version from HuggingFace"
   ]
  },
  {
   "cell_type": "code",
   "execution_count": null,
   "metadata": {},
   "outputs": [],
   "source": [
    "%%bash\n",
    "\n",
    "git lfs install\n",
    "git clone https://huggingface.co/BAAI/bge-base-en-v1.5"
   ]
  },
  {
   "cell_type": "markdown",
   "metadata": {},
   "source": [
    "### Optional: Convert to ONNX from PyTorch using optimum"
   ]
  },
  {
   "cell_type": "code",
   "execution_count": null,
   "metadata": {},
   "outputs": [],
   "source": [
    "## Use the provided onnx model or manually convert to onnx with optimum\n",
    "# !optimum-cli export onnx --model \"BAAI/bge-base-en-v1.5\" \"./onnx/bge-base-en-v1.5\""
   ]
  },
  {
   "cell_type": "markdown",
   "metadata": {},
   "source": [
    "### MAX Engine inference"
   ]
  },
  {
   "cell_type": "code",
   "execution_count": 3,
   "metadata": {},
   "outputs": [
    {
     "name": "stderr",
     "output_type": "stream",
     "text": [
      "Compiling model.....\n",
      "Done!\n"
     ]
    },
    {
     "name": "stdout",
     "output_type": "stream",
     "text": [
      "CPU times: user 764 ms, sys: 1.02 s, total: 1.78 s\n",
      "Wall time: 7.6 s\n"
     ]
    }
   ],
   "source": [
    "%%time\n",
    "\n",
    "from max import engine\n",
    "\n",
    "session = engine.InferenceSession()\n",
    "maxmodel = session.load(\"bge-base-en-v1.5/onnx/model.onnx\")"
   ]
  },
  {
   "cell_type": "code",
   "execution_count": 11,
   "metadata": {},
   "outputs": [
    {
     "name": "stdout",
     "output_type": "stream",
     "text": [
      "input name: input_ids, shape: [None, None], dtype: DType.int64\n",
      "input name: attention_mask, shape: [None, None], dtype: DType.int64\n",
      "input name: token_type_ids, shape: [None, None], dtype: DType.int64\n",
      "output name: last_hidden_state, shape: [None, None, 768], dtype: DType.float32\n"
     ]
    }
   ],
   "source": [
    "for tensor in maxmodel.input_metadata:\n",
    "    print(f'input name: {tensor.name}, shape: {tensor.shape}, dtype: {tensor.dtype}')\n",
    "\n",
    "for tensor in maxmodel.output_metadata:\n",
    "    print(f'output name: {tensor.name}, shape: {tensor.shape}, dtype: {tensor.dtype}')"
   ]
  },
  {
   "cell_type": "code",
   "execution_count": 12,
   "metadata": {},
   "outputs": [
    {
     "name": "stdout",
     "output_type": "stream",
     "text": [
      "CPU times: user 15min 31s, sys: 15.5 s, total: 15min 47s\n",
      "Wall time: 42.1 s\n"
     ]
    }
   ],
   "source": [
    "%%time\n",
    "\n",
    "from torch.utils.data import DataLoader, TensorDataset\n",
    "\n",
    "ds = TensorDataset(inputs[\"input_ids\"], inputs[\"token_type_ids\"], inputs[\"attention_mask\"])\n",
    "data_loader = DataLoader(ds, batch_size=128, shuffle=False)\n",
    "output_embeddings = []\n",
    "\n",
    "for batch in data_loader:\n",
    "    batch_input_ids, batch_token_type_ids, batch_attention_mask = batch\n",
    "    batch_outputs = maxmodel.execute(input_ids=batch_input_ids, token_type_ids=batch_token_type_ids, attention_mask=batch_attention_mask)\n",
    "    last_hidden_state = batch_outputs[\"last_hidden_state\"]\n",
    "    # Extract the CLS token embedding\n",
    "    sentence_embeddings = last_hidden_state[:, 0, :]\n",
    "    output_embeddings.append(sentence_embeddings)"
   ]
  },
  {
   "cell_type": "code",
   "execution_count": 13,
   "metadata": {},
   "outputs": [
    {
     "name": "stdout",
     "output_type": "stream",
     "text": [
      "All embeddings size: (4018, 768)\n"
     ]
    }
   ],
   "source": [
    "import numpy as np\n",
    "\n",
    "all_embeddings = np.concatenate(output_embeddings, axis=0)\n",
    "print(f\"All embeddings dimensions: {all_embeddings.shape}\")"
   ]
  },
  {
   "cell_type": "markdown",
   "metadata": {},
   "source": [
    "### Vector Database\n",
    "\n",
    "* Create client and collection\n",
    "* Store the embeddings with their metadata\n",
    "* Test query\n",
    "* Assess accuracy, f1-score, precision and recall"
   ]
  },
  {
   "cell_type": "code",
   "execution_count": 14,
   "metadata": {},
   "outputs": [],
   "source": [
    "import chromadb\n",
    "\n",
    "chroma_client = chromadb.Client()\n",
    "collection = chroma_client.create_collection(name=\"counterfactual_collection\", metadata={\"hnsw:space\": \"cosine\"})"
   ]
  },
  {
   "cell_type": "code",
   "execution_count": 15,
   "metadata": {},
   "outputs": [
    {
     "name": "stdout",
     "output_type": "stream",
     "text": [
      "CPU times: user 5.25 s, sys: 76.1 ms, total: 5.32 s\n",
      "Wall time: 5.28 s\n"
     ]
    }
   ],
   "source": [
    "%%time\n",
    "\n",
    "for i, (documents, embeddings, label) in enumerate(zip(list(data['sentence']), all_embeddings.tolist(), list(data['is_counterfactual']))):\n",
    "    collection.upsert(ids=[str(i)], documents=documents, embeddings=embeddings, metadatas=[{\"is_counterfactual\": label}])"
   ]
  },
  {
   "cell_type": "code",
   "execution_count": 16,
   "metadata": {},
   "outputs": [
    {
     "name": "stdout",
     "output_type": "stream",
     "text": [
      "counterfactual probability for query='I've worn my boots a couple times without proper socks and I can definitely tell the difference!' is 10.0%\n"
     ]
    }
   ],
   "source": [
    "query = \"I've worn my boots a couple times without proper socks and I can definitely tell the difference!\"\n",
    "query_inputs = tokenizer(query, return_tensors=\"np\", max_length=512, padding=True, truncation=True)\n",
    "query_output = maxmodel.execute(input_ids=query_inputs[\"input_ids\"], token_type_ids=query_inputs[\"token_type_ids\"], attention_mask=query_inputs[\"attention_mask\"])\n",
    "# Extract the CLS token embedding\n",
    "query_embeddings = query_output[\"last_hidden_state\"][:, 0, :]\n",
    "results = collection.query(query_embeddings, n_results=10)\n",
    "counterfactual_prob = sum([r[\"is_counterfactual\"] for r in results[\"metadatas\"][0]]) / len(results[\"metadatas\"][0])\n",
    "print(f\"counterfactual probability for query='{query}' is {counterfactual_prob * 100}%\")"
   ]
  },
  {
   "cell_type": "code",
   "execution_count": 17,
   "metadata": {},
   "outputs": [
    {
     "name": "stdout",
     "output_type": "stream",
     "text": [
      "Accuracy: 0.88\n",
      "F1 Score: 0.64\n",
      "Precision: 0.75\n",
      "Recall: 0.56\n",
      "CPU times: user 2min 34s, sys: 691 ms, total: 2min 35s\n",
      "Wall time: 7.52 s\n"
     ]
    }
   ],
   "source": [
    "%%time\n",
    "\n",
    "import pandas as pd\n",
    "from sklearn.metrics import accuracy_score, f1_score, precision_score, recall_score\n",
    "\n",
    "test_data = pd.read_csv(\"amazon-multilingual-counterfactual-dataset/data/EN_test.tsv\", sep=\"\\t\")\n",
    "cutoff_threshold = 0.5\n",
    "\n",
    "def get_counterfactual_prob(sentence):\n",
    "    query_inputs = tokenizer(sentence, return_tensors=\"np\", max_length=512, padding=True, truncation=True)\n",
    "    query_output = maxmodel.execute(input_ids=query_inputs[\"input_ids\"], token_type_ids=query_inputs[\"token_type_ids\"], attention_mask=query_inputs[\"attention_mask\"])\n",
    "    # Extract the CLS token embedding\n",
    "    query_embeddings = query_output[\"last_hidden_state\"][:, 0, :]\n",
    "    results = collection.query(query_embeddings, n_results=10)\n",
    "    counterfactual_prob = sum([r[\"is_counterfactual\"] for r in results[\"metadatas\"][0]]) / len(results[\"metadatas\"][0])\n",
    "    return counterfactual_prob\n",
    "\n",
    "predictions = []\n",
    "for index, row in test_data.iterrows():\n",
    "    counterfactual_prob = get_counterfactual_prob(row['sentence'])\n",
    "    prediction = 1 if counterfactual_prob > cutoff_threshold else 0\n",
    "    predictions.append(prediction)\n",
    "\n",
    "accuracy = accuracy_score(test_data['is_counterfactual'], predictions)\n",
    "f1 = f1_score(test_data['is_counterfactual'], predictions)\n",
    "precision = precision_score(test_data['is_counterfactual'], predictions)\n",
    "recall = recall_score(test_data['is_counterfactual'], predictions)\n",
    "\n",
    "print(f\"Accuracy: {accuracy:.2f}\")\n",
    "print(f\"F1 Score: {f1:.2f}\")\n",
    "print(f\"Precision: {precision:.2f}\")\n",
    "print(f\"Recall: {recall:.2f}\")"
   ]
  },
  {
   "cell_type": "markdown",
   "metadata": {},
   "source": [
    "### MAX Engine performance comparision against PyTorch"
   ]
  },
  {
   "cell_type": "code",
   "execution_count": 4,
   "metadata": {},
   "outputs": [
    {
     "name": "stderr",
     "output_type": "stream",
     "text": [
      "2024-03-21 18:44:39.944245: I tensorflow/core/util/port.cc:110] oneDNN custom operations are on. You may see slightly different numerical results due to floating-point round-off errors from different computation orders. To turn them off, set the environment variable `TF_ENABLE_ONEDNN_OPTS=0`.\n",
      "2024-03-21 18:44:40.048462: I tensorflow/tsl/cuda/cudart_stub.cc:28] Could not find cuda drivers on your machine, GPU will not be used.\n",
      "2024-03-21 18:44:40.748565: I tensorflow/core/platform/cpu_feature_guard.cc:182] This TensorFlow binary is optimized to use available CPU instructions in performance-critical operations.\n",
      "To enable the following instructions: AVX2 AVX512F AVX512_VNNI FMA, in other operations, rebuild TensorFlow with the appropriate compiler flags.\n",
      "2024-03-21 18:44:42.610115: W tensorflow/compiler/tf2tensorrt/utils/py_utils.cc:38] TF-TRT Warning: Could not find TensorRT\n",
      "The ONNX file onnx/model.onnx is not a regular name used in optimum.onnxruntime, the ORTModel might not behave as expected.\n"
     ]
    }
   ],
   "source": [
    "import gc\n",
    "import torch\n",
    "from torch.utils.data import DataLoader, TensorDataset\n",
    "import numpy as np\n",
    "import time\n",
    "from transformers import AutoModel\n",
    "from optimum.onnxruntime import ORTModelForFeatureExtraction\n",
    "\n",
    "model = AutoModel.from_pretrained(\"BAAI/bge-base-en-v1.5\")\n",
    "model.eval()\n",
    "\n",
    "ortmodel = ORTModelForFeatureExtraction.from_pretrained('BAAI/bge-large-en-v1.5', revision=\"refs/pr/13\",file_name=\"onnx/model.onnx\")\n",
    "\n",
    "def measure_runtime(inputs, model_fn, batch_sizes, is_pytorch=True):\n",
    "    results = {}\n",
    "    ds = TensorDataset(inputs[\"input_ids\"], inputs[\"token_type_ids\"], inputs[\"attention_mask\"])\n",
    "    for batch_size in batch_sizes:\n",
    "        data_loader = DataLoader(ds, batch_size=batch_size, shuffle=False)\n",
    "        times = []\n",
    "        for batch in data_loader:\n",
    "            start_time = time.time()\n",
    "            batch_input_ids, batch_token_type_ids, batch_attention_mask = batch\n",
    "            if is_pytorch:\n",
    "                with torch.no_grad():\n",
    "                    _ = model_fn(input_ids=batch_input_ids, token_type_ids=batch_token_type_ids, attention_mask=batch_attention_mask)\n",
    "            else:\n",
    "                _ = model_fn(input_ids=batch_input_ids, token_type_ids=batch_token_type_ids, attention_mask=batch_attention_mask)\n",
    "\n",
    "            end_time = time.time()\n",
    "            times.append(end_time - start_time)\n",
    "\n",
    "        gc.collect()\n",
    "        times = np.array(times)\n",
    "        mean_time = np.mean(times)\n",
    "        std_time = np.std(times)\n",
    "        # 95% confidence interval with normality distribution assumption of time measurements\n",
    "        confidence_interval = 1.96 * (std_time / np.sqrt(len(times)))\n",
    "        results[batch_size] = {'mean_time': mean_time, 'std_time': std_time, 'confidence_interval': confidence_interval}\n",
    "\n",
    "    return results"
   ]
  },
  {
   "cell_type": "markdown",
   "metadata": {},
   "source": [
    "### Smaller batch sizes up to 32"
   ]
  },
  {
   "cell_type": "code",
   "execution_count": 18,
   "metadata": {},
   "outputs": [
    {
     "data": {
      "text/plain": [
       "{1: {'mean_time': 0.025724823644589643,\n",
       "  'std_time': 0.0011195150605967576,\n",
       "  'confidence_interval': 3.4616331849532786e-05},\n",
       " 2: {'mean_time': 0.03914655364526926,\n",
       "  'std_time': 0.001375384256103066,\n",
       "  'confidence_interval': 6.0143701329033785e-05},\n",
       " 4: {'mean_time': 0.06768541691908196,\n",
       "  'std_time': 0.002410854367494715,\n",
       "  'confidence_interval': 0.0001490541311071916},\n",
       " 8: {'mean_time': 0.10459894072227402,\n",
       "  'std_time': 0.004060433963336759,\n",
       "  'confidence_interval': 0.0003548497720538892},\n",
       " 16: {'mean_time': 0.22655597754887172,\n",
       "  'std_time': 0.019549933744319445,\n",
       "  'confidence_interval': 0.0024137989323120886},\n",
       " 32: {'mean_time': 0.45170678032769096,\n",
       "  'std_time': 0.029710609404862427,\n",
       "  'confidence_interval': 0.005187789653445412}}"
      ]
     },
     "execution_count": 18,
     "metadata": {},
     "output_type": "execute_result"
    }
   ],
   "source": [
    "small_batch_sizes = [2 ** i for i in range(6)]\n",
    "\n",
    "small_results = measure_runtime(inputs, model, small_batch_sizes)\n",
    "small_results"
   ]
  },
  {
   "cell_type": "code",
   "execution_count": 19,
   "metadata": {},
   "outputs": [
    {
     "data": {
      "text/plain": [
       "{1: {'mean_time': 0.016388452189546605,\n",
       "  'std_time': 0.0009159324236330689,\n",
       "  'confidence_interval': 2.832138829050514e-05},\n",
       " 2: {'mean_time': 0.02863428710170383,\n",
       "  'std_time': 0.004601834935480284,\n",
       "  'confidence_interval': 0.0002012320445700227},\n",
       " 4: {'mean_time': 0.04515657994284559,\n",
       "  'std_time': 0.006237700666856768,\n",
       "  'confidence_interval': 0.00038565376056756917},\n",
       " 8: {'mean_time': 0.0807397962801499,\n",
       "  'std_time': 0.010892486148613432,\n",
       "  'confidence_interval': 0.0009519170270557248},\n",
       " 16: {'mean_time': 0.15243395074965463,\n",
       "  'std_time': 0.014727026202710044,\n",
       "  'confidence_interval': 0.0018183222812487917},\n",
       " 32: {'mean_time': 0.322895400107853,\n",
       "  'std_time': 0.03761707250495685,\n",
       "  'confidence_interval': 0.006568342536325861}}"
      ]
     },
     "execution_count": 19,
     "metadata": {},
     "output_type": "execute_result"
    }
   ],
   "source": [
    "small_maxresults = measure_runtime(inputs, lambda **kwargs: maxmodel.execute(**kwargs), small_batch_sizes, is_pytorch=False)\n",
    "small_maxresults"
   ]
  },
  {
   "cell_type": "code",
   "execution_count": 20,
   "metadata": {},
   "outputs": [
    {
     "data": {
      "text/plain": [
       "{1: {'mean_time': 0.12238260588876165,\n",
       "  'std_time': 0.00031137254110870903,\n",
       "  'confidence_interval': 9.627896569882538e-06},\n",
       " 2: {'mean_time': 0.23233708628022653,\n",
       "  'std_time': 0.0005314384798769582,\n",
       "  'confidence_interval': 2.3239089052129114e-05},\n",
       " 4: {'mean_time': 0.4630241882741748,\n",
       "  'std_time': 0.007379263749761262,\n",
       "  'confidence_interval': 0.0004562323470307556},\n",
       " 8: {'mean_time': 0.8765397635890285,\n",
       "  'std_time': 0.02878823666130272,\n",
       "  'confidence_interval': 0.0025158638976366587},\n",
       " 16: {'mean_time': 1.827323609874362,\n",
       "  'std_time': 0.10069984190659804,\n",
       "  'confidence_interval': 0.012433247808257676},\n",
       " 32: {'mean_time': 3.6864752712703885,\n",
       "  'std_time': 0.1455781407848308,\n",
       "  'confidence_interval': 0.025419497871617684}}"
      ]
     },
     "execution_count": 20,
     "metadata": {},
     "output_type": "execute_result"
    }
   ],
   "source": [
    "small_ortresults = measure_runtime(inputs, ortmodel, small_batch_sizes, is_pytorch=False)\n",
    "small_ortresults"
   ]
  },
  {
   "cell_type": "code",
   "execution_count": 8,
   "metadata": {},
   "outputs": [],
   "source": [
    "import matplotlib\n",
    "import matplotlib.pyplot as plt\n",
    "%matplotlib inline\n",
    "\n",
    "def plot_performance_comparison(batch_sizes, results_with_labels, title):\n",
    "    plt.figure(figsize=(10, 6))\n",
    "\n",
    "    for label, res in results_with_labels:\n",
    "        mean_times = [res[bs]['mean_time'] for bs in batch_sizes]\n",
    "        conf_intervals = [res[bs]['confidence_interval'] for bs in batch_sizes]\n",
    "        plt.errorbar(batch_sizes, mean_times, yerr=conf_intervals, fmt='-o', capsize=5, label=label)\n",
    "\n",
    "    plt.xlabel('Batch Size')\n",
    "    plt.ylabel('Mean Time (seconds)')\n",
    "    plt.title(title)\n",
    "    plt.legend()\n",
    "    plt.grid(True)\n",
    "    plt.show()"
   ]
  },
  {
   "cell_type": "code",
   "execution_count": 21,
   "metadata": {},
   "outputs": [
    {
     "data": {
      "image/png": "[encoded data removed]",
      "text/plain": [
       "<Figure size 1000x600 with 1 Axes>"
      ]
     },
     "metadata": {},
     "output_type": "display_data"
    }
   ],
   "source": [
    "plot_performance_comparison(small_batch_sizes,\n",
    "                            [(\"PyTorch\", small_results),\n",
    "                             (\"MAX Engine\", small_maxresults),\n",
    "                             (\"ONNX runtime\", small_ortresults)],\n",
    "                            title=\"Batch Size (1 up to 32) vs Mean Processing Time with 95% Confidence Intervals\")"
   ]
  },
  {
   "cell_type": "code",
   "execution_count": 22,
   "metadata": {},
   "outputs": [
    {
     "name": "stdout",
     "output_type": "stream",
     "text": [
      "batch size 1  MAX speedup against PT eager 1.57\n",
      "batch size 1 MAX speedup against ORT speedup 7.47\n",
      "==================================================\n",
      "batch size 2  MAX speedup against PT eager 1.37\n",
      "batch size 2 MAX speedup against ORT speedup 8.11\n",
      "==================================================\n",
      "batch size 4  MAX speedup against PT eager 1.5\n",
      "batch size 4 MAX speedup against ORT speedup 10.3\n",
      "==================================================\n",
      "batch size 8  MAX speedup against PT eager 1.3\n",
      "batch size 8 MAX speedup against ORT speedup 10.9\n",
      "==================================================\n",
      "batch size 16  MAX speedup against PT eager 1.49\n",
      "batch size 16 MAX speedup against ORT speedup 12.0\n",
      "==================================================\n",
      "batch size 32  MAX speedup against PT eager 1.4\n",
      "batch size 32 MAX speedup against ORT speedup 11.4\n",
      "==================================================\n"
     ]
    }
   ],
   "source": [
    "for b in small_batch_sizes:\n",
    "    print(f\"batch size {b}  MAX speedup against PT eager {small_results[b]['mean_time'] / small_maxresults[b]['mean_time']:.3}\")\n",
    "    print(f\"batch size {b} MAX speedup against ORT speedup {small_ortresults[b]['mean_time'] / small_maxresults[b]['mean_time']:.3}\")\n",
    "    print(\"=\" * 50)"
   ]
  },
  {
   "cell_type": "markdown",
   "metadata": {},
   "source": [
    "### Larger batch size: 64 up to 4096\n",
    "\n",
    "Caveat: ONNX Runtime can not handle large batch sizes"
   ]
  },
  {
   "cell_type": "code",
   "execution_count": 5,
   "metadata": {},
   "outputs": [
    {
     "data": {
      "text/plain": [
       "{64: {'mean_time': 1.1635253770010812,\n",
       "  'std_time': 0.06451019416228201,\n",
       "  'confidence_interval': 0.015929940206309633},\n",
       " 128: {'mean_time': 2.7000724375247955,\n",
       "  'std_time': 0.32799640376266626,\n",
       "  'confidence_interval': 0.11364495583963724},\n",
       " 256: {'mean_time': 5.232172220945358,\n",
       "  'std_time': 0.39103216889516235,\n",
       "  'confidence_interval': 0.19160576275862953},\n",
       " 512: {'mean_time': 10.194679498672485,\n",
       "  'std_time': 0.5967861291580313,\n",
       "  'confidence_interval': 0.4135516884688004},\n",
       " 1024: {'mean_time': 19.829804956912994,\n",
       "  'std_time': 0.6745672150864245,\n",
       "  'confidence_interval': 0.661075870784696},\n",
       " 2048: {'mean_time': 39.542428493499756,\n",
       "  'std_time': 0.8096575736999512,\n",
       "  'confidence_interval': 1.1221281471724733},\n",
       " 4096: {'mean_time': 79.20335650444031,\n",
       "  'std_time': 0.0,\n",
       "  'confidence_interval': 0.0}}"
      ]
     },
     "execution_count": 5,
     "metadata": {},
     "output_type": "execute_result"
    }
   ],
   "source": [
    "large_batch_sizes = [2 ** i for i in range(6, 13)]\n",
    "\n",
    "large_results = measure_runtime(inputs, model, large_batch_sizes)\n",
    "large_results"
   ]
  },
  {
   "cell_type": "code",
   "execution_count": 6,
   "metadata": {},
   "outputs": [
    {
     "data": {
      "text/plain": [
       "{64: {'mean_time': 0.6351379742698063,\n",
       "  'std_time': 0.02000868621852881,\n",
       "  'confidence_interval': 0.004940880727566242},\n",
       " 128: {'mean_time': 1.305235043168068,\n",
       "  'std_time': 0.14677618593599698,\n",
       "  'confidence_interval': 0.050855353832100096},\n",
       " 256: {'mean_time': 2.6512993425130844,\n",
       "  'std_time': 0.21237153076868487,\n",
       "  'confidence_interval': 0.10406205007665559},\n",
       " 512: {'mean_time': 5.4555279314517975,\n",
       "  'std_time': 0.33311288367088654,\n",
       "  'confidence_interval': 0.23083545136540362},\n",
       " 1024: {'mean_time': 11.869774401187897,\n",
       "  'std_time': 0.8275278594046777,\n",
       "  'confidence_interval': 0.810977302216584},\n",
       " 2048: {'mean_time': 25.930068731307983,\n",
       "  'std_time': 1.6367738246917725,\n",
       "  'confidence_interval': 2.2684527865880595},\n",
       " 4096: {'mean_time': 54.694310426712036,\n",
       "  'std_time': 0.0,\n",
       "  'confidence_interval': 0.0}}"
      ]
     },
     "execution_count": 6,
     "metadata": {},
     "output_type": "execute_result"
    }
   ],
   "source": [
    "large_maxresults = measure_runtime(inputs, lambda **kwargs: maxmodel.execute(**kwargs), large_batch_sizes, is_pytorch=False)\n",
    "large_maxresults"
   ]
  },
  {
   "cell_type": "code",
   "execution_count": null,
   "metadata": {},
   "outputs": [],
   "source": [
    "## ONNX Runtime can not handle large batch sizes\n",
    "\n",
    "# large_ortresults = measure_runtime(inputs, ortmodel, large_batch_sizes, is_pytorch=False)\n",
    "# large_ortresults"
   ]
  },
  {
   "cell_type": "code",
   "execution_count": 9,
   "metadata": {},
   "outputs": [
    {
     "data": {
      "image/png": "[encoded data removed]",
      "text/plain": [
       "<Figure size 1000x600 with 1 Axes>"
      ]
     },
     "metadata": {},
     "output_type": "display_data"
    }
   ],
   "source": [
    "plot_performance_comparison(large_batch_sizes,\n",
    "                            [(\"PyTorch\", large_results),\n",
    "                             (\"MAX Engine\", large_maxresults)],\n",
    "                            title=\"Batch Size (64 up to 4096) vs Mean Processing Time with 95% Confidence Intervals\")"
   ]
  },
  {
   "cell_type": "code",
   "execution_count": 10,
   "metadata": {},
   "outputs": [
    {
     "name": "stdout",
     "output_type": "stream",
     "text": [
      "batch size 64  MAX speedup against PT eager 1.83\n",
      "==================================================\n",
      "batch size 128  MAX speedup against PT eager 2.07\n",
      "==================================================\n",
      "batch size 256  MAX speedup against PT eager 1.97\n",
      "==================================================\n",
      "batch size 512  MAX speedup against PT eager 1.87\n",
      "==================================================\n",
      "batch size 1024  MAX speedup against PT eager 1.67\n",
      "==================================================\n",
      "batch size 2048  MAX speedup against PT eager 1.52\n",
      "==================================================\n",
      "batch size 4096  MAX speedup against PT eager 1.45\n",
      "==================================================\n"
     ]
    }
   ],
   "source": [
    "for b in large_batch_sizes:\n",
    "    print(f\"batch size {b}  MAX speedup against PT eager {large_results[b]['mean_time'] / large_maxresults[b]['mean_time']:.3}\")\n",
    "    print(\"=\" * 50)"
   ]
  },
  {
   "cell_type": "code",
   "execution_count": null,
   "metadata": {},
   "outputs": [],
   "source": []
  }
 ],
 "metadata": {
  "kernelspec": {
   "display_name": "venv",
   "language": "python",
   "name": "python3"
  },
  "language_info": {
   "codemirror_mode": {
    "name": "ipython",
    "version": 3
   },
   "file_extension": ".py",
   "mimetype": "text/x-python",
   "name": "python",
   "nbconvert_exporter": "python",
   "pygments_lexer": "ipython3",
   "version": "3.10.12"
  }
 },
 "nbformat": 4,
 "nbformat_minor": 2
}
