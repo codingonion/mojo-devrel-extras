{
 "cells": [
  {
   "cell_type": "markdown",
   "metadata": {},
   "source": [
    "# What's New in Mojo 24.2"
   ]
  },
  {
   "cell_type": "markdown",
   "metadata": {},
   "source": [
    "<img src=\"whats_new.jpeg\" alt=\"Drawing\" style=\"width: 800px;\"/>"
   ]
  },
  {
   "cell_type": "markdown",
   "metadata": {},
   "source": [
    "## Core language features"
   ]
  },
  {
   "cell_type": "code",
   "execution_count": null,
   "metadata": {
    "jupyter": {
     "source_hidden": true
    }
   },
   "outputs": [],
   "source": [
    "from random import rand\n",
    "struct MojoArray[dtype: DType = DType.float64]():\n",
    "    var _ptr: DTypePointer[dtype]\n",
    "    var numel: Int\n",
    "\n",
    "    fn __init__(inout self, numel: Int, *data: Scalar[dtype]):\n",
    "        self.numel = len(data)\n",
    "        self._ptr = DTypePointer[dtype].alloc(len(data))\n",
    "        for i in range(len(data)):\n",
    "            self._ptr[i] = data[i]\n",
    "\n",
    "    fn __len__(self) -> Int:\n",
    "        return self.numel\n",
    "\n",
    "    fn __str__(self) -> String:\n",
    "        var s: String = \"\"\n",
    "        s += \"[\"\n",
    "        for i in range(len(self)):\n",
    "            if i>0:\n",
    "                s+=\" \"\n",
    "            s+=self._ptr[i]\n",
    "        s+=\"]\"\n",
    "        return s\n",
    "\n",
    "var arr = MojoArray[DType.index](1,2,3,4,5,6,7)\n",
    "print(\"Array and length:\")\n",
    "print(arr)\n",
    "print(\"Length: \",len(arr))"
   ]
  },
  {
   "cell_type": "code",
   "execution_count": null,
   "metadata": {},
   "outputs": [],
   "source": [
    "from math.polynomial import polynomial_evaluate\n",
    "alias dtype = DType.float64\n",
    "\n",
    "def polynomial(x: Float64, **kwargs: Int):\n",
    "    var val: Float64 = 0.0\n",
    "    var idx: Int = 0\n",
    "    var s: String = \"\"\n",
    "    for key in kwargs.keys():\n",
    "        if idx == 0:\n",
    "            s += key[]+\" + \"\n",
    "        else:\n",
    "            s+= key[]+\"*x^\"+str(idx)+\" + \"\n",
    "        val += kwargs[key[]]*(x**idx)\n",
    "        idx+=1\n",
    "\n",
    "    print(\"Evaluating polynomial: [\",s[:-2],'] ',\"at\",x)\n",
    "    print(val)\n",
    "\n",
    "polynomial(42.0, a=-6, b=3, c=-2, d=1)\n",
    "alias coeff = List[Scalar[dtype]](-6, 3, -2, 1)\n",
    "print(\"Compare results with math.polynomial\")\n",
    "print(polynomial_evaluate[dtype, 1, coeff](42.0))"
   ]
  },
  {
   "cell_type": "markdown",
   "metadata": {},
   "source": [
    "## Standard library features"
   ]
  },
  {
   "cell_type": "markdown",
   "metadata": {},
   "source": [
    "#### Mojo Lists"
   ]
  },
  {
   "cell_type": "code",
   "execution_count": null,
   "metadata": {
    "jupyter": {
     "source_hidden": true
    }
   },
   "outputs": [],
   "source": [
    "from random import random_si64\n",
    "\n",
    "def stack_sort(list: List[Int]) -> List[Int]:\n",
    "    stack = List[Int]()\n",
    "    input_list = List[Int](list)  # Create a copy of the input list\n",
    "    sorted_list = List[Int]()  # This will hold the sorted elements\n",
    "\n",
    "    while len(input_list):\n",
    "        temp = input_list.pop_back()\n",
    "        while len(stack) and stack[-1] < temp:\n",
    "            input_list.append(stack.pop_back())\n",
    "        stack.append(temp)\n",
    "\n",
    "    while len(stack):\n",
    "        sorted_list.append(stack.pop_back())\n",
    "    return sorted_list\n",
    "\n",
    "def print_list(list: List[Int]):\n",
    "    print('List','[', sep=': ', end=' ')\n",
    "    for i in range(len(list)):\n",
    "        print(list[i],end=' ')\n",
    "    print(\"]\", end='\\n')\n",
    "\n",
    "my_list = List[Int]()\n",
    "for i in range(5):\n",
    "    my_list.append(int(random_si64(0,100)))\n",
    "\n",
    "print(\"Original\")\n",
    "print_list(my_list)\n",
    "sorted_list = stack_sort(my_list)\n",
    "print(\"Sorted\")\n",
    "print_list(sorted_list)"
   ]
  },
  {
   "cell_type": "code",
   "execution_count": null,
   "metadata": {
    "jupyter": {
     "source_hidden": true
    }
   },
   "outputs": [],
   "source": [
    "from tensor import Tensor, rand\n",
    "var t1 = rand[DType.float32](2,2)\n",
    "var t2 = rand[DType.float32](3,2)\n",
    "var t3 = rand[DType.float32](1)\n",
    "\n",
    "var lst = List[Tensor[DType.float32]](t1,t2,t3)\n",
    "for i in range(len(lst)):\n",
    "    print(lst[i])"
   ]
  },
  {
   "cell_type": "markdown",
   "metadata": {},
   "source": [
    "#### Tensor `argmax()` and `argmin()`"
   ]
  },
  {
   "cell_type": "code",
   "execution_count": null,
   "metadata": {
    "jupyter": {
     "source_hidden": true
    }
   },
   "outputs": [],
   "source": [
    "from tensor import Tensor, rand, TensorShape\n",
    "var t = rand[DType.float32](3,100)\n",
    "print(t.argmax().astype[DType.index]())\n",
    "print(t.argmax(axis=-1).astype[DType.index]())"
   ]
  },
  {
   "cell_type": "markdown",
   "metadata": {},
   "source": [
    "#### `math.ulp()`"
   ]
  },
  {
   "cell_type": "code",
   "execution_count": null,
   "metadata": {
    "jupyter": {
     "source_hidden": true
    }
   },
   "outputs": [],
   "source": [
    "from math.polynomial import polynomial_evaluate\n",
    "from math import abs, max, ulp\n",
    "alias dtype = DType.float64\n",
    "alias width = simdwidthof[dtype]()\n",
    "\n",
    "alias coeff = List[Scalar[dtype]](-6, 3, -2, 1)\n",
    "alias deriv_coeff = List[Scalar[dtype]](3, -4, 3)\n",
    "\n",
    "def f(x: Float64) -> Float64:\n",
    "    return polynomial_evaluate[dtype, 1, coeff](x)\n",
    "\n",
    "def df(x: Float64) -> Float64:\n",
    "    return polynomial_evaluate[dtype, 1, deriv_coeff](x)\n",
    "\n",
    "def newton_raphson(x0: Float64, tolerance: Float64) -> Float64:\n",
    "    var x = x0\n",
    "    var steps: Int = 0\n",
    "    while True:\n",
    "        x_new = x - f(x)/df(x)\n",
    "        steps += 1\n",
    "        if abs(x_new - x) < max(tolerance, ulp(x_new)):\n",
    "            print(\"Steps to convergence:\", steps)\n",
    "            break\n",
    "        x = x_new\n",
    "    return x_new\n",
    "\n",
    "initial_guess = 100  # Initial guess for the root\n",
    "tolerance = 1e-2    # Tolerance for terminating the algorithm\n",
    "\n",
    "root = newton_raphson(initial_guess, tolerance)\n",
    "print(\"Root found using Newton-Raphson method:\", root)\n",
    "print(\"Value of the polynomial at the root:\", polynomial_evaluate[dtype, 1, coeff](root))"
   ]
  },
  {
   "cell_type": "markdown",
   "metadata": {},
   "source": [
    "## Python Interoperability"
   ]
  },
  {
   "cell_type": "code",
   "execution_count": null,
   "metadata": {
    "jupyter": {
     "source_hidden": true
    }
   },
   "outputs": [],
   "source": [
    "from python import Python\n",
    "from math.polynomial import polynomial_evaluate\n",
    "\n",
    "var np = Python.import_module(\"numpy\")\n",
    "var plt = Python.import_module(\"matplotlib.pyplot\")\n",
    "\n",
    "alias dtype = DType.float64\n",
    "alias width = simdwidthof[dtype]()\n",
    "alias coeff = List[Scalar[dtype]](-6, 3, -2, 1)\n",
    "alias deriv_coeff = List[Scalar[dtype]](3, -4, 3)\n",
    "\n",
    "x_vals = np.linspace(-2, 3, 100)\n",
    "var y_vals: PythonObject = []\n",
    "var y_deriv_vals: PythonObject = []\n",
    "\n",
    "for i in range(len(x_vals)):\n",
    "    y_vals.append(polynomial_evaluate[dtype, 1, coeff](x_vals[i].to_float64()))\n",
    "    y_deriv_vals.append(polynomial_evaluate[dtype, 1, deriv_coeff](x_vals[i].to_float64()))\n",
    "\n",
    "plt.figure(figsize=(10, 6))\n",
    "plt.plot(x_vals, y_vals, label='Polynomial: $x^3 - 2x^2 + 3x - 6$')\n",
    "plt.plot(x_vals, y_deriv_vals, label='Derivative of the Polynomial')\n",
    "plt.xlabel('x')\n",
    "plt.ylabel('y')\n",
    "plt.title('Plot showing root of $x^3 - 2x^2 + 3x - 6$')\n",
    "plt.legend()\n",
    "plt.grid(True)\n",
    "plt.axhline(0, color='black',linewidth=0.5)\n",
    "plt.axvline(0, color='black',linewidth=0.5)\n",
    "plt.axvline(x=2, color='r', linestyle='--', linewidth=2)\n",
    "\n",
    "plt.plot(2, 0, marker='o', markersize=15, color='b')\n",
    "plt.text(2.1, -2, 'Root', fontsize=12, color='b')\n",
    "\n",
    "plt.show()"
   ]
  }
 ],
 "metadata": {
  "kernelspec": {
   "display_name": "Mojo",
   "language": "mojo",
   "name": "mojo-jupyter-kernel"
  },
  "language_info": {
   "codemirror_mode": {
    "name": "mojo"
   },
   "file_extension": ".mojo",
   "mimetype": "text/x-mojo",
   "name": "mojo"
  }
 },
 "nbformat": 4,
 "nbformat_minor": 4
}
