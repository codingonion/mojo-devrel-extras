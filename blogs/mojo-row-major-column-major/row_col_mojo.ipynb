{
 "cells": [
  {
   "cell_type": "code",
   "execution_count": 1,
   "metadata": {},
   "outputs": [
    {
     "name": "stdout",
     "output_type": "stream",
     "text": [
      "[[1.0  2.0  3.0]\n",
      " [4.0  5.0  6.0]\n",
      " [7.0  8.0  9.0]\n",
      " [10.0  11.0  12.0]]\n",
      "Matrix: 4x3 | DType:float64 | Row Major\n",
      "\n",
      "Memory layout:\n",
      "[1.0 2.0 3.0 4.0 5.0 6.0 7.0 8.0 9.0 10.0 11.0 12.0]\n",
      "\n"
     ]
    }
   ],
   "source": [
    "from row_col_matrix import MojoMatrix\n",
    "vals = List[Float64](1,2,3,4,5,6,7,8,9,10,11,12)\n",
    "M = MojoMatrix(4,3,vals)\n",
    "print(M)\n",
    "print(\"Memory layout:\")\n",
    "M.print_linear()"
   ]
  },
  {
   "cell_type": "code",
   "execution_count": 1,
   "metadata": {},
   "outputs": [
    {
     "name": "stdout",
     "output_type": "stream",
     "text": [
      "[[1.0  2.0  3.0]\n",
      " [4.0  5.0  6.0]\n",
      " [7.0  8.0  9.0]\n",
      " [10.0  11.0  12.0]]\n",
      "Matrix: 4x3 | DType:float64 | Column Major\n",
      "\n",
      "Memory layout:\n",
      "[1.0 4.0 7.0 10.0 2.0 5.0 8.0 11.0 3.0 6.0 9.0 12.0]\n",
      "\n"
     ]
    }
   ],
   "source": [
    "from row_col_matrix import MojoMatrix\n",
    "vals = List[Float64](1,2,3,4,5,6,7,8,9,10,11,12)\n",
    "M = MojoMatrix(4,3,vals)\n",
    "mm_col_major = M.to_colmajor()\n",
    "print(mm_col_major)\n",
    "print(\"Memory layout:\")\n",
    "mm_col_major.print_linear()"
   ]
  },
  {
   "cell_type": "code",
   "execution_count": 1,
   "metadata": {},
   "outputs": [
    {
     "name": "stdout",
     "output_type": "stream",
     "text": [
      "Matrix in column-major order:\n",
      "[[1.0  2.0  3.0]\n",
      " [4.0  5.0  6.0]\n",
      " [7.0  8.0  9.0]\n",
      " [10.0  11.0  12.0]]\n",
      "Matrix: 4x3 | DType:float64 | Column Major\n",
      "\n",
      "Memory layout:\n",
      "[1.0 4.0 7.0 10.0 2.0 5.0 8.0 11.0 3.0 6.0 9.0 12.0]\n",
      "\n",
      "Transposed matrix:\n",
      "[[1.0  4.0  7.0  10.0]\n",
      " [2.0  5.0  8.0  11.0]\n",
      " [3.0  6.0  9.0  12.0]]\n",
      "Matrix: 3x4 | DType:float64 | Row Major\n",
      "\n",
      "Memory layout:\n",
      "[1.0 4.0 7.0 10.0 2.0 5.0 8.0 11.0 3.0 6.0 9.0 12.0]\n",
      "\n"
     ]
    }
   ],
   "source": [
    "from row_col_matrix import MojoMatrix\n",
    "vals = List[Float64](1,2,3,4,5,6,7,8,9,10,11,12)\n",
    "M = MojoMatrix(4,3,vals)\n",
    "mm_col_major = M.to_colmajor()\n",
    "print(\"Matrix in column-major order:\")\n",
    "print(mm_col_major)\n",
    "print(\"Memory layout:\")\n",
    "mm_col_major.print_linear()\n",
    "print(\"Transposed matrix:\")\n",
    "print(M.transpose())\n",
    "print(\"Memory layout:\")\n",
    "M.transpose().print_linear()"
   ]
  },
  {
   "cell_type": "code",
   "execution_count": 1,
   "metadata": {},
   "outputs": [
    {
     "name": "stdout",
     "output_type": "stream",
     "text": [
      "Row-major accuracy check vs. NumPy. (2-Norm of difference): 4.8095599519507898e-14\n",
      "Column-major accuracy check vs. NumPy. (2-Norm of difference): 4.8095599519507898e-14\n",
      "\n",
      "========== Execution time ==========\n",
      "\n",
      "Mojo row-major mean time (ms): 39.034610169491522\n",
      "Mojo column-major mean time (ms): 1.7911874074074075\n",
      "\n",
      "NumPy row-major mean time (ms): 47.496916609816253\n",
      "NumPy column-major mean time (ms): 8.1102000083774328\n",
      "\n",
      "========== Speedups ==========\n",
      "\n",
      "Col-major vs. Row-Major\n",
      "Mojo col-major vs. Mojo row-major: 21.792x\n",
      "NumPy col-major vs. NumPy row-major (default): 5.8564x\n",
      "\n",
      "Mojo vs. NumPy\n",
      "Mojo col-major vs. NumPy row-major (default): 26.517x\n",
      "Mojo col-major vs. NumPy col-major: 4.5278x\n"
     ]
    }
   ],
   "source": [
    "from row_col_matrix import MojoMatrix\n",
    "import benchmark\n",
    "from random import random_si64\n",
    "from benchmark import Unit, keep\n",
    "from python import Python\n",
    "from time import sleep\n",
    "from testing import assert_almost_equal\n",
    "from algorithm import vectorize\n",
    "\n",
    "fn mojo_to_py_list(list: List[Int]) raises -> PythonObject:\n",
    "    var py_list = PythonObject([])\n",
    "    for idx in list:\n",
    "        py_list.append(idx[])\n",
    "    return py_list\n",
    "\n",
    "fn print_numpy_compare_norm(np_mat: PythonObject, mat: MojoMatrix, mean_idx: List[Int]) raises -> Float64:\n",
    "    var np = Python.import_module(\"numpy\")\n",
    "    var np_mean: PythonObject\n",
    "    var mat_mean: PythonObject\n",
    "    if len(mean_idx)==0:\n",
    "        np_mean = np_mat.mean(axis=0)\n",
    "        mat_mean = mat.mean(mean_idx).to_numpy()\n",
    "    else:\n",
    "        np_mean = np_mat.take(mojo_to_py_list(mean_idx),axis=1).mean(axis=0)\n",
    "        mat_mean = mat.mean(mean_idx).to_numpy()       \n",
    "    return np.linalg.norm(np_mean - mat_mean).to_float64()\n",
    "\n",
    "fn bench_row_major(np_mat: PythonObject, mean_idx: List[Int]) raises -> Float64:\n",
    "    var mat = MojoMatrix.from_numpy(np_mat)\n",
    "    @parameter\n",
    "    fn benchmark_fn():\n",
    "        var m = mat.mean(mean_idx)\n",
    "        keep(m._matPtr)\n",
    "\n",
    "    var report_row_major = benchmark.run[benchmark_fn]()\n",
    "\n",
    "    print(\"Row-major accuracy check vs. NumPy. (2-Norm of difference):\",str(print_numpy_compare_norm(np_mat, mat, mean_idx)))\n",
    "    return report_row_major.mean(Unit.ms)\n",
    "\n",
    "fn bench_col_major(np_mat: PythonObject, mean_idx: List[Int]) raises -> Float64:\n",
    "    var mat = MojoMatrix.from_numpy(np_mat).to_colmajor()\n",
    "    @parameter\n",
    "    fn benchmark_fn():\n",
    "        var m = mat.mean(mean_idx)\n",
    "        keep(m._matPtr)\n",
    "\n",
    "    var report_col_major = benchmark.run[benchmark_fn]()\n",
    "\n",
    "    print(\"Column-major accuracy check vs. NumPy. (2-Norm of difference):\",str(print_numpy_compare_norm(np_mat, mat, mean_idx)))\n",
    "    return report_col_major.mean(Unit.ms)\n",
    "\n",
    "fn bench_numpy_row_major(np_mat: PythonObject, mean_idx: PythonObject) raises -> Float64:\n",
    "    Python.add_to_path(\".\")\n",
    "    var numpy_mean = Python.import_module(\"python_mean_bench\")\n",
    "    return numpy_mean.row_major_mean(np_mat, mean_idx).to_float64()\n",
    "\n",
    "fn bench_numpy_col_major(np_mat: PythonObject, mean_idx: PythonObject) raises -> Float64:\n",
    "    Python.add_to_path(\".\")\n",
    "    var numpy_mean = Python.import_module(\"python_mean_bench\")\n",
    "    return numpy_mean.col_major_mean(np_mat, mean_idx).to_float64()\n",
    "\n",
    "np = Python.import_module(\"numpy\")\n",
    "np_mat = np.random.rand(10000,10000)\n",
    "\n",
    "mean_idx = List[Int]()\n",
    "for i in range(1000):\n",
    "    mean_idx.append(int(random_si64(0,10000)))\n",
    "\n",
    "row_major_mean_time = bench_row_major(np_mat, mean_idx)\n",
    "col_major_mean_time = bench_col_major(np_mat, mean_idx)\n",
    "\n",
    "numpy_row_major_mean_time = bench_numpy_row_major(np_mat, mojo_to_py_list(mean_idx))\n",
    "numpy_col_major_mean_time = bench_numpy_col_major(np_mat, mojo_to_py_list(mean_idx))\n",
    "\n",
    "print()\n",
    "print(\"========== Execution time ==========\")\n",
    "print()\n",
    "print(\"Mojo row-major mean time (ms):\",row_major_mean_time)\n",
    "print(\"Mojo column-major mean time (ms):\",col_major_mean_time)\n",
    "print()\n",
    "print(\"NumPy row-major mean time (ms):\",numpy_row_major_mean_time)\n",
    "print(\"NumPy column-major mean time (ms):\",numpy_col_major_mean_time)\n",
    "print()\n",
    "print(\"========== Speedups ==========\")\n",
    "print()\n",
    "print(\"Col-major vs. Row-Major\")\n",
    "print(\"Mojo col-major vs. Mojo row-major:\",str(row_major_mean_time/col_major_mean_time)[:6],end='x\\n')\n",
    "print(\"NumPy col-major vs. NumPy row-major (default):\",str(numpy_row_major_mean_time/numpy_col_major_mean_time)[:6],end='x\\n')\n",
    "print()\n",
    "print(\"Mojo vs. NumPy\")\n",
    "print(\"Mojo col-major vs. NumPy row-major (default):\",str(numpy_row_major_mean_time/col_major_mean_time)[:6],end='x\\n')\n",
    "print(\"Mojo col-major vs. NumPy col-major:\",str(numpy_col_major_mean_time/col_major_mean_time)[:6],end='x\\n')"
   ]
  }
 ],
 "metadata": {
  "kernelspec": {
   "display_name": "Mojo",
   "language": "mojo",
   "name": "mojo-jupyter-kernel"
  },
  "language_info": {
   "codemirror_mode": {
    "name": "mojo"
   },
   "file_extension": ".mojo",
   "mimetype": "text/x-mojo",
   "name": "mojo"
  }
 },
 "nbformat": 4,
 "nbformat_minor": 2
}
