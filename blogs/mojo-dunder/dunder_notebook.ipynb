{
 "cells": [
  {
   "cell_type": "markdown",
   "metadata": {},
   "source": [
    "# Exploring dunder methods in Mojo"
   ]
  },
  {
   "cell_type": "code",
   "execution_count": 5,
   "metadata": {},
   "outputs": [
    {
     "name": "stderr",
     "output_type": "stream",
     "text": [
      "error: \u001b[0;1;31m\u001b[1mExpression [5] wrapper:4:1: \u001b[0m\u001b[1mno viable expansions found\n",
      "\u001b[0mfn __lldb_expr__5(inout __mojo_repl_arg: __mojo_repl_context__):\n",
      "\u001b[0;1;32m^\n",
      "\u001b[0m\u001b[0m\n",
      "\u001b[0;1;30m\u001b[1mExpression [5] wrapper:6:28: \u001b[0m\u001b[1m  call expansion failed - no concrete specializations\n",
      "\u001b[0m    __mojo_repl_expr_impl__(__mojo_repl_arg)\n",
      "\u001b[0;1;32m                           ^\n",
      "\u001b[0m\u001b[0m\n",
      "\u001b[0;1;30m\u001b[1mExpression [5] wrapper:10:1: \u001b[0m\u001b[1m    no viable expansions found\n",
      "\u001b[0mdef __mojo_repl_expr_impl__(inout __mojo_repl_arg: __mojo_repl_context__) -> None:\n",
      "\u001b[0;1;32m^\n",
      "\u001b[0m\u001b[0m\n",
      "\u001b[0;1;30m\u001b[1mExpression [5] wrapper:19:26: \u001b[0m\u001b[1m      call expansion failed - no concrete specializations\n",
      "\u001b[0m  __mojo_repl_expr_body__()\n",
      "\u001b[0;1;32m                         ^\n",
      "\u001b[0m\u001b[0m\n",
      "\u001b[0;1;30m\u001b[1mExpression [5] wrapper:13:3: \u001b[0m\u001b[1m        no viable expansions found\n",
      "\u001b[0m  def __mojo_repl_expr_body__() -> None:\n",
      "\u001b[0;1;32m  ^\n",
      "\u001b[0m\u001b[0m\n",
      "\u001b[0;1;30m\u001b[1m<unknown>:0: \u001b[0m\u001b[1m          could not simplify operator get_alignof(!lit.unresolved, #kgen.target<triple = \"aarch64-apple-macosx14.2.1\", arch = \"apple-m1\", features = \"+aes,+complxnum,+crc,+dotprod,+fp-armv8,+fp16fml,+fullfp16,+jsconv,+lse,+neon,+pauth,+ras,+rcpc,+rdm,+sha2,+sha3\", data_layout = \"e-m:o-i64:64-i128:128-n32:64-S128\", relocation_model = \"pic\", simd_bit_width = 128>)\n",
      "\u001b[0m\u001b[0m\n",
      "expression failed to parse (no further compiler diagnostics)"
     ]
    }
   ],
   "source": [
    "from DunderArray import DunderArray\n",
    "from python import Python\n",
    "\n",
    "np = Python.import_module(\"numpy\")\n",
    "\n",
    "x = DunderArray(np.sin(np.arange(0, 6, 0.1)))\n",
    "y = DunderArray.rand(x.numel)\n",
    "\n",
    "z = x**3 + 3 * x - x / 5.0 + 0.3 + y**2"
   ]
  },
  {
   "cell_type": "code",
   "execution_count": 2,
   "metadata": {},
   "outputs": [
    {
     "name": "stderr",
     "output_type": "stream",
     "text": [
      "error: \u001b[0;1;31m\u001b[1m/Users/jack/src/devrel-extras/blogs/2402-mojo-dunder/DunderArray.mojo:340:5: \u001b[0m\u001b[1mdo not know how to resolve the signature of this decl!\n",
      "\u001b[0m    fn to_numpy(self) raises -> PythonObject:\n",
      "\u001b[0;1;32m    ^\n",
      "\u001b[0m\u001b[0m\n",
      "error: \u001b[0;1;31m\u001b[1m/Users/jack/src/devrel-extras/blogs/2402-mojo-dunder/DunderArray.mojo:71:5: \u001b[0m\u001b[1mdo not know how to resolve the signature of this decl!\n",
      "\u001b[0m    fn __neg__(self) -> Self:\n",
      "\u001b[0;1;32m    ^\n",
      "\u001b[0m\u001b[0m\n",
      "error: \u001b[0;1;31m\u001b[1m/Users/jack/src/devrel-extras/blogs/2402-mojo-dunder/DunderArray.mojo:74:5: \u001b[0m\u001b[1mdo not know how to resolve the signature of this decl!\n",
      "\u001b[0m    fn __pos__(self) -> Self:\n",
      "\u001b[0;1;32m    ^\n",
      "\u001b[0m\u001b[0m\n",
      "error: \u001b[0;1;31m\u001b[1m/Users/jack/src/devrel-extras/blogs/2402-mojo-dunder/DunderArray.mojo:77:5: \u001b[0m\u001b[1mdo not know how to resolve the signature of this decl!\n",
      "\u001b[0m    fn __invert__(self) -> Self:\n",
      "\u001b[0;1;32m    ^\n",
      "\u001b[0m\u001b[0m\n",
      "error: \u001b[0;1;31m\u001b[1m/Users/jack/src/devrel-extras/blogs/2402-mojo-dunder/DunderArray.mojo:94:5: \u001b[0m\u001b[1mdo not know how to resolve the signature of this decl!\n",
      "\u001b[0m    fn __lt__(self, other: Self) -> Bool:\n",
      "\u001b[0;1;32m    ^\n",
      "\u001b[0m\u001b[0m\n",
      "error: \u001b[0;1;31m\u001b[1m/Users/jack/src/devrel-extras/blogs/2402-mojo-dunder/DunderArray.mojo:97:5: \u001b[0m\u001b[1mdo not know how to resolve the signature of this decl!\n",
      "\u001b[0m    fn __le__(self, other: Self) -> Bool:\n",
      "\u001b[0;1;32m    ^\n",
      "\u001b[0m\u001b[0m\n",
      "error: \u001b[0;1;31m\u001b[1m/Users/jack/src/devrel-extras/blogs/2402-mojo-dunder/DunderArray.mojo:100:5: \u001b[0m\u001b[1mdo not know how to resolve the signature of this decl!\n",
      "\u001b[0m    fn __eq__(self, other: Self) -> Bool:\n",
      "\u001b[0;1;32m    ^\n",
      "\u001b[0m\u001b[0m\n",
      "error: \u001b[0;1;31m\u001b[1m/Users/jack/src/devrel-extras/blogs/2402-mojo-dunder/DunderArray.mojo:103:5: \u001b[0m\u001b[1mdo not know how to resolve the signature of this decl!\n",
      "\u001b[0m    fn __ne__(self, other: Self) -> Bool:\n",
      "\u001b[0;1;32m    ^\n",
      "\u001b[0m\u001b[0m\n",
      "error: \u001b[0;1;31m\u001b[1m/Users/jack/src/devrel-extras/blogs/2402-mojo-dunder/DunderArray.mojo:106:5: \u001b[0m\u001b[1mdo not know how to resolve the signature of this decl!\n",
      "\u001b[0m    fn __gt__(self, other: Self) -> Bool:\n",
      "\u001b[0;1;32m    ^\n",
      "\u001b[0m\u001b[0m\n",
      "error: \u001b[0;1;31m\u001b[1m/Users/jack/src/devrel-extras/blogs/2402-mojo-dunder/DunderArray.mojo:109:5: \u001b[0m\u001b[1mdo not know how to resolve the signature of this decl!\n",
      "\u001b[0m    fn __ge__(self, other: Self) -> Bool:\n",
      "\u001b[0;1;32m    ^\n",
      "\u001b[0m\u001b[0m\n",
      "error: \u001b[0;1;31m\u001b[1m/Users/jack/src/devrel-extras/blogs/2402-mojo-dunder/DunderArray.mojo:119:5: \u001b[0m\u001b[1mdo not know how to resolve the signature of this decl!\n",
      "\u001b[0m    fn __radd__(self, s: Scalar[dtype]) -> Self:\n",
      "\u001b[0;1;32m    ^\n",
      "\u001b[0m\u001b[0m\n",
      "error: \u001b[0;1;31m\u001b[1m/Users/jack/src/devrel-extras/blogs/2402-mojo-dunder/DunderArray.mojo:122:5: \u001b[0m\u001b[1mdo not know how to resolve the signature of this decl!\n",
      "\u001b[0m    fn __iadd__(inout self, s: Scalar[dtype]):\n",
      "\u001b[0;1;32m    ^\n",
      "\u001b[0m\u001b[0m\n",
      "error: \u001b[0;1;31m\u001b[1m/Users/jack/src/devrel-extras/blogs/2402-mojo-dunder/DunderArray.mojo:131:5: \u001b[0m\u001b[1mdo not know how to resolve the signature of this decl!\n",
      "\u001b[0m    fn __rsub__(self, s: Scalar[dtype]) -> Self:\n",
      "\u001b[0;1;32m    ^\n",
      "\u001b[0m\u001b[0m\n",
      "error: \u001b[0;1;31m\u001b[1m/Users/jack/src/devrel-extras/blogs/2402-mojo-dunder/DunderArray.mojo:134:5: \u001b[0m\u001b[1mdo not know how to resolve the signature of this decl!\n",
      "\u001b[0m    fn __isub__(inout self, s: Scalar[dtype]):\n",
      "\u001b[0;1;32m    ^\n",
      "\u001b[0m\u001b[0m\n",
      "error: \u001b[0;1;31m\u001b[1m/Users/jack/src/devrel-extras/blogs/2402-mojo-dunder/DunderArray.mojo:146:5: \u001b[0m\u001b[1mdo not know how to resolve the signature of this decl!\n",
      "\u001b[0m    fn __imul__(inout self, s: Scalar[dtype]):\n",
      "\u001b[0;1;32m    ^\n",
      "\u001b[0m\u001b[0m\n",
      "error: \u001b[0;1;31m\u001b[1m/Users/jack/src/devrel-extras/blogs/2402-mojo-dunder/DunderArray.mojo:149:5: \u001b[0m\u001b[1mdo not know how to resolve the signature of this decl!\n",
      "\u001b[0m    fn __matmul__(self, other: Self) -> Self:\n",
      "\u001b[0;1;32m    ^\n",
      "\u001b[0m\u001b[0m\n",
      "error: \u001b[0;1;31m\u001b[1m/Users/jack/src/devrel-extras/blogs/2402-mojo-dunder/DunderArray.mojo:152:5: \u001b[0m\u001b[1mdo not know how to resolve the signature of this decl!\n",
      "\u001b[0m    fn __imatmul__(inout self, other: Self):\n",
      "\u001b[0;1;32m    ^\n",
      "\u001b[0m\u001b[0m\n",
      "error: \u001b[0;1;31m\u001b[1m/Users/jack/src/devrel-extras/blogs/2402-mojo-dunder/DunderArray.mojo:161:5: \u001b[0m\u001b[1mdo not know how to resolve the signature of this decl!\n",
      "\u001b[0m    fn __rtruediv__(self, s: Scalar[dtype]) -> Self:\n",
      "\u001b[0;1;32m    ^\n",
      "\u001b[0m\u001b[0m\n",
      "error: \u001b[0;1;31m\u001b[1m/Users/jack/src/devrel-extras/blogs/2402-mojo-dunder/DunderArray.mojo:164:5: \u001b[0m\u001b[1mdo not know how to resolve the signature of this decl!\n",
      "\u001b[0m    fn __itruediv__(inout self, s: Scalar[dtype]):\n",
      "\u001b[0;1;32m    ^\n",
      "\u001b[0m\u001b[0m\n",
      "error: \u001b[0;1;31m\u001b[1m/Users/jack/src/devrel-extras/blogs/2402-mojo-dunder/DunderArray.mojo:167:5: \u001b[0m\u001b[1mdo not know how to resolve the signature of this decl!\n",
      "\u001b[0m    fn __floordiv__(self, s: Scalar[dtype]) -> Self:\n",
      "\u001b[0;1;32m    ^\n",
      "\u001b[0m\u001b[0m\n",
      "error: \u001b[0;1;31m\u001b[1m/Users/jack/src/devrel-extras/blogs/2402-mojo-dunder/DunderArray.mojo:170:5: \u001b[0m\u001b[1mdo not know how to resolve the signature of this decl!\n",
      "\u001b[0m    fn __floordiv__(self, other: Self) -> Self:\n",
      "\u001b[0;1;32m    ^\n",
      "\u001b[0m\u001b[0m\n",
      "error: \u001b[0;1;31m\u001b[1m/Users/jack/src/devrel-extras/blogs/2402-mojo-dunder/DunderArray.mojo:173:5: \u001b[0m\u001b[1mdo not know how to resolve the signature of this decl!\n",
      "\u001b[0m    fn __rfloordiv__(self, s: Scalar[dtype]) -> Self:\n",
      "\u001b[0;1;32m    ^\n",
      "\u001b[0m\u001b[0m\n",
      "error: \u001b[0;1;31m\u001b[1m/Users/jack/src/devrel-extras/blogs/2402-mojo-dunder/DunderArray.mojo:176:5: \u001b[0m\u001b[1mdo not know how to resolve the signature of this decl!\n",
      "\u001b[0m    fn __ifloordiv__(inout self, s: Scalar[dtype]):\n",
      "\u001b[0;1;32m    ^\n",
      "\u001b[0m\u001b[0m\n",
      "error: \u001b[0;1;31m\u001b[1m/Users/jack/src/devrel-extras/blogs/2402-mojo-dunder/DunderArray.mojo:179:5: \u001b[0m\u001b[1mdo not know how to resolve the signature of this decl!\n",
      "\u001b[0m    fn __mod__(self, s: Scalar[dtype]) -> Self:\n",
      "\u001b[0;1;32m    ^\n",
      "\u001b[0m\u001b[0m\n",
      "error: \u001b[0;1;31m\u001b[1m/Users/jack/src/devrel-extras/blogs/2402-mojo-dunder/DunderArray.mojo:182:5: \u001b[0m\u001b[1mdo not know how to resolve the signature of this decl!\n",
      "\u001b[0m    fn __mod__(self, other: Self) -> Self:\n",
      "\u001b[0;1;32m    ^\n",
      "\u001b[0m\u001b[0m\n",
      "error: \u001b[0;1;31m\u001b[1m/Users/jack/src/devrel-extras/blogs/2402-mojo-dunder/DunderArray.mojo:185:5: \u001b[0m\u001b[1mdo not know how to resolve the signature of this decl!\n",
      "\u001b[0m    fn __rmod__(self, s: Scalar[dtype]) -> Self:\n",
      "\u001b[0;1;32m    ^\n",
      "\u001b[0m\u001b[0m\n",
      "error: \u001b[0;1;31m\u001b[1m/Users/jack/src/devrel-extras/blogs/2402-mojo-dunder/DunderArray.mojo:188:5: \u001b[0m\u001b[1mdo not know how to resolve the signature of this decl!\n",
      "\u001b[0m    fn __imod__(inout self, s: Scalar[dtype]):\n",
      "\u001b[0;1;32m    ^\n",
      "\u001b[0m\u001b[0m\n",
      "error: \u001b[0;1;31m\u001b[1m/Users/jack/src/devrel-extras/blogs/2402-mojo-dunder/DunderArray.mojo:194:5: \u001b[0m\u001b[1mdo not know how to resolve the signature of this decl!\n",
      "\u001b[0m    fn __ipow__(inout self, p: Int):\n",
      "\u001b[0;1;32m    ^\n",
      "\u001b[0m\u001b[0m\n",
      "error: \u001b[0;1;31m\u001b[1m/Users/jack/src/devrel-extras/blogs/2402-mojo-dunder/DunderArray.mojo:197:5: \u001b[0m\u001b[1mdo not know how to resolve the signature of this decl!\n",
      "\u001b[0m    fn __lshift__(self, p: Int) -> Self:\n",
      "\u001b[0;1;32m    ^\n",
      "\u001b[0m\u001b[0m\n",
      "error: \u001b[0;1;31m\u001b[1m/Users/jack/src/devrel-extras/blogs/2402-mojo-dunder/DunderArray.mojo:213:5: \u001b[0m\u001b[1mdo not know how to resolve the signature of this decl!\n",
      "\u001b[0m    fn __rshift__(self, p: Int) -> Self:\n",
      "\u001b[0;1;32m    ^\n",
      "\u001b[0m\u001b[0m\n",
      "error: \u001b[0;1;31m\u001b[1m/Users/jack/src/devrel-extras/blogs/2402-mojo-dunder/DunderArray.mojo:229:5: \u001b[0m\u001b[1mdo not know how to resolve the signature of this decl!\n",
      "\u001b[0m    fn __ilshift__(inout self, p: Int):\n",
      "\u001b[0;1;32m    ^\n",
      "\u001b[0m\u001b[0m\n",
      "error: \u001b[0;1;31m\u001b[1m/Users/jack/src/devrel-extras/blogs/2402-mojo-dunder/DunderArray.mojo:232:5: \u001b[0m\u001b[1mdo not know how to resolve the signature of this decl!\n",
      "\u001b[0m    fn __irshift__(inout self, p: Int):\n",
      "\u001b[0;1;32m    ^\n",
      "\u001b[0m\u001b[0m\n",
      "error: \u001b[0;1;31m\u001b[1m/Users/jack/src/devrel-extras/blogs/2402-mojo-dunder/DunderArray.mojo:235:5: \u001b[0m\u001b[1mdo not know how to resolve the signature of this decl!\n",
      "\u001b[0m    fn __and__(self, other: Self) -> Self:\n",
      "\u001b[0;1;32m    ^\n",
      "\u001b[0m\u001b[0m\n",
      "error: \u001b[0;1;31m\u001b[1m/Users/jack/src/devrel-extras/blogs/2402-mojo-dunder/DunderArray.mojo:253:5: \u001b[0m\u001b[1mdo not know how to resolve the signature of this decl!\n",
      "\u001b[0m    fn __iand__(inout self, other: Self):\n",
      "\u001b[0;1;32m    ^\n",
      "\u001b[0m\u001b[0m\n",
      "error: \u001b[0;1;31m\u001b[1m/Users/jack/src/devrel-extras/blogs/2402-mojo-dunder/DunderArray.mojo:256:5: \u001b[0m\u001b[1mdo not know how to resolve the signature of this decl!\n",
      "\u001b[0m    fn __or__(self, other: Self) -> Self:\n",
      "\u001b[0;1;32m    ^\n",
      "\u001b[0m\u001b[0m\n",
      "error: \u001b[0;1;31m\u001b[1m/Users/jack/src/devrel-extras/blogs/2402-mojo-dunder/DunderArray.mojo:274:5: \u001b[0m\u001b[1mdo not know how to resolve the signature of this decl!\n",
      "\u001b[0m    fn __ior__(inout self, other: Self):\n",
      "\u001b[0;1;32m    ^\n",
      "\u001b[0m\u001b[0m\n",
      "error: \u001b[0;1;31m\u001b[1m/Users/jack/src/devrel-extras/blogs/2402-mojo-dunder/DunderArray.mojo:277:5: \u001b[0m\u001b[1mdo not know how to resolve the signature of this decl!\n",
      "\u001b[0m    fn __xor__(self, other: Self) -> Self:\n",
      "\u001b[0;1;32m    ^\n",
      "\u001b[0m\u001b[0m\n",
      "error: \u001b[0;1;31m\u001b[1m/Users/jack/src/devrel-extras/blogs/2402-mojo-dunder/DunderArray.mojo:295:5: \u001b[0m\u001b[1mdo not know how to resolve the signature of this decl!\n",
      "\u001b[0m    fn __ixor__(inout self, other: Self):\n",
      "\u001b[0;1;32m    ^\n",
      "\u001b[0m\u001b[0m\n",
      "error: \u001b[0;1;31m\u001b[1m/Users/jack/src/devrel-extras/blogs/2402-mojo-dunder/DunderArray.mojo:304:5: \u001b[0m\u001b[1mdo not know how to resolve the signature of this decl!\n",
      "\u001b[0m    fn __bool__(self) -> Bool:\n",
      "\u001b[0;1;32m    ^\n",
      "\u001b[0m\u001b[0m\n",
      "error: \u001b[0;1;31m\u001b[1m/Users/jack/src/devrel-extras/blogs/2402-mojo-dunder/DunderArray.mojo:355:5: \u001b[0m\u001b[1mdo not know how to resolve the signature of this decl!\n",
      "\u001b[0m    fn _reduce_sum(self) -> Self:\n",
      "\u001b[0;1;32m    ^\n",
      "\u001b[0m\u001b[0m\n",
      "error: \u001b[0;1;31m\u001b[1m/Users/jack/src/devrel-extras/blogs/2402-mojo-dunder/DunderArray.mojo:366:5: \u001b[0m\u001b[1mdo not know how to resolve the signature of this decl!\n",
      "\u001b[0m    fn _elemwise_transform[\n",
      "\u001b[0;1;32m    ^\n",
      "\u001b[0m\u001b[0m\n",
      "error: \u001b[0;1;31m\u001b[1m/Users/jack/src/devrel-extras/blogs/2402-mojo-dunder/DunderArray.mojo:401:5: \u001b[0m\u001b[1mdo not know how to resolve the signature of this decl!\n",
      "\u001b[0m    fn _r_elemwise_scalar_math[\n",
      "\u001b[0;1;32m    ^\n",
      "\u001b[0m\u001b[0m\n",
      "expression failed to parse (no further compiler diagnostics)"
     ]
    }
   ],
   "source": [
    "plt = Python.import_module(\"matplotlib\")\n",
    "\n",
    "plt = Python.import_module(\"matplotlib.pyplot\")\n",
    "plt.plot(z.to_numpy(), \"r\")\n",
    "plt.show()"
   ]
  },
  {
   "cell_type": "code",
   "execution_count": null,
   "metadata": {},
   "outputs": [
    {
     "name": "stdout",
     "output_type": "stream",
     "text": [
      "[0.0  0.0  0.0  0.0  0.0]\n",
      "Length:5, DType:float64\n",
      "[1.0  2.0  3.0  4.0  5.0]\n",
      "Length:5, DType:float64\n"
     ]
    }
   ],
   "source": [
    "arr1 = DunderArray(5)\n",
    "arr2 = DunderArray(1, 2, 3, 4, 5)\n",
    "print(arr1)\n",
    "print(arr2)"
   ]
  },
  {
   "cell_type": "code",
   "execution_count": null,
   "metadata": {},
   "outputs": [
    {
     "name": "stdout",
     "output_type": "stream",
     "text": [
      "Original: [0.1736  0.7514  0.8249  0.7530  0.3190]\n",
      "Length:5, DType:float64\n",
      "\n",
      "Copy: [0.1736  0.7514  0.8249  0.7530  0.3190]\n",
      "Length:5, DType:float64\n"
     ]
    }
   ],
   "source": [
    "arr = DunderArray.rand(5)\n",
    "print(\"Original:\", arr)\n",
    "arr_copy = arr\n",
    "\n",
    "print()\n",
    "print(\"Copy:\", arr_copy)"
   ]
  },
  {
   "cell_type": "code",
   "execution_count": null,
   "metadata": {},
   "outputs": [
    {
     "name": "stdout",
     "output_type": "stream",
     "text": [
      "[2.0  4.0  6.0  8.0]\n",
      "Length:4, DType:float64\n",
      "[2.0  4.0  6.0  8.0]\n",
      "Length:4, DType:float64\n"
     ]
    }
   ],
   "source": [
    "fn test_move():\n",
    "    var arr = DunderArray(2, 4, 6, 8)\n",
    "    print(arr)\n",
    "    var arr_moved = arr ^\n",
    "    print(arr_moved)\n",
    "    # print(arr) #<-- ERROR: use of uninitialized value 'arr'\n",
    "\n",
    "\n",
    "test_move()"
   ]
  },
  {
   "cell_type": "code",
   "execution_count": null,
   "metadata": {},
   "outputs": [
    {
     "name": "stdout",
     "output_type": "stream",
     "text": [
      "4.0\n"
     ]
    }
   ],
   "source": [
    "arr = DunderArray(1,2,3,4,5)\n",
    "print(arr[3])"
   ]
  },
  {
   "cell_type": "code",
   "execution_count": null,
   "metadata": {},
   "outputs": [
    {
     "name": "stdout",
     "output_type": "stream",
     "text": [
      "[1.0  2.0  3.0  100.0  5.0]\n",
      "Length:5, DType:float64\n"
     ]
    }
   ],
   "source": [
    "arr = DunderArray(1, 2, 3, 4, 5)\n",
    "arr[3] = 100\n",
    "print(arr)"
   ]
  },
  {
   "cell_type": "code",
   "execution_count": null,
   "metadata": {},
   "outputs": [
    {
     "name": "stdout",
     "output_type": "stream",
     "text": [
      "[1.0  2.0  3.0  4.0  5.0]\n",
      "Length:5, DType:float64\n",
      "[1.0  2.0  3.0  4.0  5.0]\n",
      "Length:5, DType:float64\n",
      "[-1.0  -2.0  -3.0  -4.0  -5.0]\n",
      "Length:5, DType:float64\n",
      "[False  True  False]\n",
      "Length:3, DType:bool\n"
     ]
    }
   ],
   "source": [
    "arr = DunderArray(1, 2, 3, 4, 5)\n",
    "print(+arr)\n",
    "print(arr)\n",
    "print(-arr)\n",
    "\n",
    "arr_bool = DunderArray[DType.bool](True, False, True)\n",
    "print(~arr_bool)"
   ]
  },
  {
   "cell_type": "markdown",
   "metadata": {},
   "source": []
  },
  {
   "cell_type": "code",
   "execution_count": null,
   "metadata": {},
   "outputs": [
    {
     "name": "stdout",
     "output_type": "stream",
     "text": [
      "Norm of arr1: [29.1796]\n",
      "Length:1, DType:float64\n",
      "Norm of arr2: [33.7959]\n",
      "Length:1, DType:float64\n",
      "Comparing the squared euclidean norm of arr1 and arr2\n",
      "__lt__: arr1 <  arr2: True\n",
      "__le__: arr1 <= arr2: True\n",
      "__eq__: arr1 == arr2: False\n",
      "__ne__: arr1 != arr2: True\n",
      "__gt__: arr1 >  arr2: False\n",
      "__ge__: arr1 >= arr2: False\n"
     ]
    }
   ],
   "source": [
    "arr1 = DunderArray.rand(100)\n",
    "arr2 = DunderArray.rand(100)\n",
    "\n",
    "print(\"Norm of arr1:\", (arr1**2)._reduce_sum())\n",
    "print(\"Norm of arr2:\", (arr2**2)._reduce_sum())\n",
    "\n",
    "print(\"Comparing the squared euclidean norm of arr1 and arr2\")\n",
    "print(\"__lt__: arr1 <  arr2:\", arr1 < arr2)\n",
    "print(\"__le__: arr1 <= arr2:\", arr1 <= arr2)\n",
    "print(\"__eq__: arr1 == arr2:\", arr1 == arr2)\n",
    "print(\"__ne__: arr1 != arr2:\", arr1 != arr2)\n",
    "print(\"__gt__: arr1 >  arr2:\", arr1 > arr2)\n",
    "print(\"__ge__: arr1 >= arr2:\", arr1 >= arr2)"
   ]
  },
  {
   "cell_type": "code",
   "execution_count": null,
   "metadata": {},
   "outputs": [
    {
     "name": "stdout",
     "output_type": "stream",
     "text": [
      "[100.1038  100.6068  100.2352  100.3556  100.5682]\n",
      "Length:5, DType:float64\n",
      "[100.1038  100.6068  100.2352  100.3556  100.5682]\n",
      "Length:5, DType:float64\n",
      "[100.1038  100.6068  100.2352  100.3556  100.5682]\n",
      "Length:5, DType:float64\n",
      "[100.1038  100.6068  100.2352  100.3556  100.5682]\n",
      "Length:5, DType:float64\n"
     ]
    }
   ],
   "source": [
    "arr1 = DunderArray.rand(5)\n",
    "arr2 = DunderArray(100, 100, 100, 100, 100)\n",
    "\n",
    "# Normal  and in-place\n",
    "print(arr1 + 100.0)\n",
    "print(arr1 + arr2)\n",
    "\n",
    "# Reflected\n",
    "print(100.0 + arr1)\n",
    "\n",
    "# In-place\n",
    "arr1 += 100.0\n",
    "print(arr1)"
   ]
  },
  {
   "cell_type": "code",
   "execution_count": null,
   "metadata": {},
   "outputs": [
    {
     "name": "stdout",
     "output_type": "stream",
     "text": [
      "[-99.4521  -99.5073  -99.8977  -99.8914  -99.6529]\n",
      "Length:5, DType:float64\n",
      "[-99.4521  -99.5073  -99.8977  -99.8914  -99.6529]\n",
      "Length:5, DType:float64\n",
      "[99.4521  99.5073  99.8977  99.8914  99.6529]\n",
      "Length:5, DType:float64\n",
      "[-99.4521  -99.5073  -99.8977  -99.8914  -99.6529]\n",
      "Length:5, DType:float64\n"
     ]
    }
   ],
   "source": [
    "arr1 = DunderArray.rand(5)\n",
    "arr2 = DunderArray(100, 100, 100, 100, 100)\n",
    "\n",
    "# Normal and in-place\n",
    "print(arr1 - 100.0)\n",
    "print(arr1 - arr2)\n",
    "\n",
    "# Reflected\n",
    "print(100.0 - arr1)\n",
    "\n",
    "# In-place\n",
    "arr1 -= 100.0\n",
    "print(arr1)"
   ]
  },
  {
   "cell_type": "code",
   "execution_count": null,
   "metadata": {},
   "outputs": [
    {
     "name": "stdout",
     "output_type": "stream",
     "text": [
      "[82.3512  88.6479  70.7390  18.0723  84.8782]\n",
      "Length:5, DType:float64\n",
      "[82.3512  88.6479  70.7390  18.0723  84.8782]\n",
      "Length:5, DType:float64\n",
      "[82.3512  88.6479  70.7390  18.0723  84.8782]\n",
      "Length:5, DType:float64\n",
      "[82.3512  88.6479  70.7390  18.0723  84.8782]\n",
      "Length:5, DType:float64\n"
     ]
    }
   ],
   "source": [
    "arr1 = DunderArray.rand(5)\n",
    "arr2 = DunderArray(100, 100, 100, 100, 100)\n",
    "\n",
    "# Normal and in-place\n",
    "print(arr1 * 100.0)\n",
    "print(arr1 * arr2)\n",
    "\n",
    "# Reflected\n",
    "print(100.0 * arr1)\n",
    "\n",
    "# In-place\n",
    "arr1 *= 100.0\n",
    "print(arr1)"
   ]
  },
  {
   "cell_type": "code",
   "execution_count": null,
   "metadata": {},
   "outputs": [
    {
     "name": "stdout",
     "output_type": "stream",
     "text": [
      "[1.1172]\n",
      "Length:1, DType:float64\n",
      "[1.1172]\n",
      "Length:1, DType:float64\n",
      "[1.1172]\n",
      "Length:1, DType:float64\n"
     ]
    }
   ],
   "source": [
    "arr1 = DunderArray.rand(5)\n",
    "arr2 = DunderArray.rand(5)\n",
    "\n",
    "# Normal and in-place\n",
    "print(arr1 @ arr2)\n",
    "\n",
    "# Verify\n",
    "print((arr1 * arr2)._reduce_sum())\n",
    "\n",
    "# In-place\n",
    "arr1 @= arr2\n",
    "print(arr1)"
   ]
  },
  {
   "cell_type": "code",
   "execution_count": null,
   "metadata": {},
   "outputs": [
    {
     "name": "stderr",
     "output_type": "stream",
     "text": [
      "error: \u001b[0;1;31m\u001b[1mExpression [34]:3:7: \u001b[0m\u001b[1mcannot implicitly convert 'FloatLiteral' value to 'Int' in assignment\n",
      "\u001b[0mval = 10.0\n",
      "\u001b[0;1;32m      ^~~~\n",
      "\u001b[0m\u001b[0m\n",
      "error: \u001b[0;1;31m\u001b[1mExpression [34]:6:11: \u001b[0m\u001b[1mambiguous call to '__truediv__', each candidate requires 1 implicit conversion, disambiguate with an explicit cast\n",
      "\u001b[0mprint(arr1/val)\n",
      "\u001b[0;1;32m      ~~~~^~~~\n",
      "\u001b[0m\u001b[0m\n",
      "\u001b[0;1;30m\u001b[1m/Users/shashank/projects/demos/mojo-drafts/mojo_dunder/DunderArray.mojo:147:5: \u001b[0m\u001b[1mcandidate declared here\n",
      "\u001b[0m    fn __truediv__(self, s: Scalar[dtype])->Self:\n",
      "\u001b[0;1;32m    ^\n",
      "\u001b[0m\u001b[0m\n",
      "\u001b[0;1;30m\u001b[1m/Users/shashank/projects/demos/mojo-drafts/mojo_dunder/DunderArray.mojo:150:5: \u001b[0m\u001b[1mcandidate declared here\n",
      "\u001b[0m    fn __truediv__(self, other: Self)->Self:\n",
      "\u001b[0;1;32m    ^\n",
      "\u001b[0m\u001b[0m\n",
      "expression failed to parse (no further compiler diagnostics)"
     ]
    }
   ],
   "source": [
    "arr1 = DunderArray.rand(5)\n",
    "arr2 = DunderArray(10, 10, 10, 10, 10)\n",
    "val = 10.0\n",
    "\n",
    "print(arr1)\n",
    "print(arr1 / val)\n",
    "print(arr1 / arr2)\n",
    "print(val / arr1)\n",
    "arr2 /= val\n",
    "print(arr2)"
   ]
  },
  {
   "cell_type": "code",
   "execution_count": null,
   "metadata": {},
   "outputs": [],
   "source": [
    "arr1 = DunderArray.rand(5) * 100.0\n",
    "arr2 = DunderArray(10, 10, 10, 10, 10)\n",
    "val = 10.0\n",
    "\n",
    "print(arr1)\n",
    "print(arr1 // val)\n",
    "print(arr1 // arr2)\n",
    "print(val // arr1)\n",
    "arr2 //= val\n",
    "print(arr2)"
   ]
  },
  {
   "cell_type": "code",
   "execution_count": null,
   "metadata": {},
   "outputs": [],
   "source": [
    "arr1 = DunderArray.rand(5) * 100.0\n",
    "arr2 = DunderArray(10, 10, 10, 10, 10)\n",
    "val = 10.0\n",
    "\n",
    "print(arr1)\n",
    "print(arr1 % val)\n",
    "print(arr1 % arr2)\n",
    "print(val % arr1)\n",
    "arr2 %= val\n",
    "print(arr2)"
   ]
  },
  {
   "cell_type": "code",
   "execution_count": null,
   "metadata": {},
   "outputs": [],
   "source": [
    "arr_pow = DunderArray(1, 2, 3, 4, 5)\n",
    "let val: Int = 2\n",
    "\n",
    "print(arr_pow)\n",
    "print(arr_pow**val)\n",
    "arr_pow **= val\n",
    "print(arr_pow)"
   ]
  },
  {
   "cell_type": "code",
   "execution_count": null,
   "metadata": {},
   "outputs": [],
   "source": [
    "arr_shift = DunderArray[DType.int32](1, 2, 3, 4, 5)\n",
    "\n",
    "print(arr_shift)\n",
    "print(arr_shift << 2)\n",
    "arr_shift <<= 4\n",
    "print(arr_shift)\n",
    "print(arr_shift >> 2)\n",
    "arr_shift >>= 4\n",
    "print(arr_shift)"
   ]
  },
  {
   "cell_type": "code",
   "execution_count": null,
   "metadata": {},
   "outputs": [],
   "source": [
    "arr_bool1 = DunderArray[DType.bool](1, 1, 1, 1)\n",
    "arr_bool2 = DunderArray[DType.bool](1, 0, 1, 0)\n",
    "\n",
    "print(\"AND:\")\n",
    "print(arr_bool1 & arr_bool2)\n",
    "arr_bool1& = arr_bool2\n",
    "print(arr_bool1)\n",
    "\n",
    "print(\"OR:\")\n",
    "print(arr_bool1 | arr_bool2)\n",
    "arr_bool1 |= arr_bool2\n",
    "print(arr_bool1)\n",
    "\n",
    "print(\"XOR:\")\n",
    "print(arr_bool1 ^ arr_bool2)\n",
    "arr_bool1 ^= arr_bool2\n",
    "print(arr_bool1)"
   ]
  },
  {
   "cell_type": "code",
   "execution_count": null,
   "metadata": {},
   "outputs": [],
   "source": [
    "arr = DunderArray.rand(100)\n",
    "\n",
    "print(len(arr))\n",
    "print(int(arr))\n",
    "print(arr)"
   ]
  }
 ],
 "metadata": {
  "kernelspec": {
   "display_name": "Mojo",
   "language": "mojo",
   "name": "mojo-jupyter-kernel"
  },
  "language_info": {
   "codemirror_mode": {
    "name": "mojo"
   },
   "file_extension": ".mojo",
   "mimetype": "text/x-mojo",
   "name": "mojo"
  }
 },
 "nbformat": 4,
 "nbformat_minor": 2
}
